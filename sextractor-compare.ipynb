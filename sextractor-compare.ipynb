{
 "cells": [
  {
   "cell_type": "code",
   "execution_count": 18,
   "metadata": {
    "collapsed": true
   },
   "outputs": [],
   "source": [
    "import numpy\n",
    "import analysis\n",
    "import lsst.afw.table\n",
    "import lsst.daf.persistence"
   ]
  },
  {
   "cell_type": "code",
   "execution_count": 12,
   "metadata": {
    "collapsed": true
   },
   "outputs": [],
   "source": [
    "def loadSExtractor(filename):\n",
    "    dtype = numpy.dtype([(\"id\", numpy.int64), (\"ra\", numpy.float64), (\"dec\", numpy.float64),\n",
    "                         (\"r\", numpy.float64), (\"i\", numpy.float64), (\"z\", numpy.float64)])\n",
    "    npCat = numpy.loadtxt(filename, dtype=dtype, usecols=[0, 3, 4, 100, 101, 102])\n",
    "    npCat[\"ra\"] *= numpy.pi/180\n",
    "    npCat[\"dec\"] *= numpy.pi/180\n",
    "    schema = lsst.afw.table.SimpleTable.makeMinimalSchema()\n",
    "    rKey = schema.addField(\"r.se\", type=float, doc=\"SExtractor r-band aperture magnitude\", units=\"mag\")\n",
    "    iKey = schema.addField(\"i.se\", type=float, doc=\"SExtractor i-band aperture magnitude\", units=\"mag\")\n",
    "    zKey = schema.addField(\"z.se\", type=float, doc=\"SExtractor z-band aperture magnitude\", units=\"mag\")\n",
    "    catalog = lsst.afw.table.SimpleCatalog(schema)\n",
    "    catalog.reserve(len(npCat))\n",
    "    for row in npCat:\n",
    "        catalog.addNew()\n",
    "    catalog[\"id\"][:] = npCat[\"id\"]\n",
    "    catalog[\"coord.ra\"][:] = npCat[\"ra\"]\n",
    "    catalog[\"coord.dec\"][:] = npCat[\"dec\"]\n",
    "    catalog[\"r.se\"][:] = npCat[\"r\"]\n",
    "    catalog[\"i.se\"][:] = npCat[\"i\"]\n",
    "    catalog[\"z.se\"][:] = npCat[\"z\"]\n",
    "    return catalog"
   ]
  },
  {
   "cell_type": "code",
   "execution_count": 13,
   "metadata": {
    "collapsed": false
   },
   "outputs": [],
   "source": [
    "seCat = loadSExtractor(\"unified_RIZ_catalog_8522.cat\")"
   ]
  },
  {
   "cell_type": "code",
   "execution_count": 14,
   "metadata": {
    "collapsed": false
   },
   "outputs": [
    {
     "data": {
      "text/plain": [
       "180"
      ]
     },
     "execution_count": 14,
     "metadata": {},
     "output_type": "execute_result"
    }
   ],
   "source": [
    "len(seCat)"
   ]
  },
  {
   "cell_type": "code",
   "execution_count": 17,
   "metadata": {
    "collapsed": false
   },
   "outputs": [],
   "source": [
    "butler = lsst.daf.persistence.Butler(\"/home/jbosch/HSC/data/rerun/HSC-1339/baseline\")"
   ]
  },
  {
   "cell_type": "code",
   "execution_count": 20,
   "metadata": {
    "collapsed": false
   },
   "outputs": [],
   "source": [
    "loader = analysis.CatalogLoader(butler)\n",
    "hscCat = loader.read(tract=8522, patch=\"5,5\")"
   ]
  },
  {
   "cell_type": "code",
   "execution_count": 21,
   "metadata": {
    "collapsed": false
   },
   "outputs": [
    {
     "name": "stdout",
     "output_type": "stream",
     "text": [
      "Help on function matchRaDec in module lsst.afw.table.tableLib:\n",
      "\n",
      "matchRaDec(*args)\n",
      "    matchRaDec(SimpleCatalog cat1, SimpleCatalog cat2, Angle radius, bool closest=True) -> SimpleMatchVector\n",
      "    matchRaDec(SimpleCatalog cat1, SimpleCatalog cat2, Angle radius) -> SimpleMatchVector\n",
      "    matchRaDec(SimpleCatalog cat1, SimpleCatalog cat2, Angle radius, MatchControl mc=lsst::afw::table::MatchControl()) -> SimpleMatchVector\n",
      "    matchRaDec(SimpleCatalog cat1, SourceCatalog cat2, Angle radius, bool closest=True) -> ReferenceMatchVector\n",
      "    matchRaDec(SimpleCatalog cat1, SourceCatalog cat2, Angle radius) -> ReferenceMatchVector\n",
      "    matchRaDec(SimpleCatalog cat1, SourceCatalog cat2, Angle radius, MatchControl mc=lsst::afw::table::MatchControl()) -> ReferenceMatchVector\n",
      "    matchRaDec(SourceCatalog cat1, SourceCatalog cat2, Angle radius, bool closest=True) -> SourceMatchVector\n",
      "    matchRaDec(SourceCatalog cat1, SourceCatalog cat2, Angle radius) -> SourceMatchVector\n",
      "    matchRaDec(SourceCatalog cat1, SourceCatalog cat2, Angle radius, MatchControl mc=lsst::afw::table::MatchControl()) -> SourceMatchVector\n",
      "    matchRaDec(SimpleCatalog cat, Angle radius, MatchControl mc=lsst::afw::table::MatchControl()) -> SimpleMatchVector\n",
      "    matchRaDec(SimpleCatalog cat, Angle radius) -> SimpleMatchVector\n",
      "    matchRaDec(SourceCatalog cat, Angle radius, MatchControl mc=lsst::afw::table::MatchControl()) -> SourceMatchVector\n",
      "    matchRaDec(SourceCatalog cat, Angle radius) -> SourceMatchVector\n",
      "    matchRaDec(SimpleCatalog cat, Angle radius, bool symmetric) -> SimpleMatchVector\n",
      "    matchRaDec(SourceCatalog cat, Angle radius, bool symmetric) -> SourceMatchVector\n",
      "\n"
     ]
    }
   ],
   "source": [
    "help(lsst.afw.table.matchRaDec)"
   ]
  },
  {
   "cell_type": "code",
   "execution_count": 28,
   "metadata": {
    "collapsed": true
   },
   "outputs": [],
   "source": [
    "coaddI = butler.get(\"deepCoadd\", tract=8522, patch=\"5,5\", filter=\"HSC-I\", immediate=True)\n",
    "coaddZ = butler.get(\"deepCoadd\", tract=8522, patch=\"5,5\", filter=\"HSC-Z\", immediate=True)\n",
    "coaddR = butler.get(\"deepCoadd\", tract=8522, patch=\"5,5\", filter=\"HSC-R\", immediate=True)"
   ]
  },
  {
   "cell_type": "code",
   "execution_count": 23,
   "metadata": {
    "collapsed": true
   },
   "outputs": [],
   "source": [
    "import lsst.afw.display.ds9"
   ]
  },
  {
   "cell_type": "code",
   "execution_count": 41,
   "metadata": {
    "collapsed": false
   },
   "outputs": [],
   "source": [
    "lsst.afw.display.ds9.mtv(coaddR, frame=0)\n",
    "lsst.afw.display.ds9.mtv(coaddI, frame=1)\n",
    "lsst.afw.display.ds9.mtv(coaddZ, frame=2)"
   ]
  },
  {
   "cell_type": "code",
   "execution_count": 38,
   "metadata": {
    "collapsed": false
   },
   "outputs": [],
   "source": [
    "def showCatalog(catalog, exposure, symbol=None, color=None, frame=0):\n",
    "    bbox = lsst.afw.geom.Box2D(exposure.getBBox(lsst.afw.image.PARENT))\n",
    "    with lsst.afw.display.Buffering():\n",
    "        for record in catalog:\n",
    "            point = exposure.getWcs().skyToPixel(record.getCoord())\n",
    "            if not bbox.contains(point): continue\n",
    "            point -= lsst.afw.geom.Extent2D(exposure.getXY0())\n",
    "            if symbol is None:\n",
    "                lsst.afw.display.ds9.dot(record.getShape(), point.getX(), point.getY(), ctype=color, frame=frame)\n",
    "            else:\n",
    "                lsst.afw.display.ds9.dot(symbol, point.getX(), point.getY(), ctype=color, frame=frame)"
   ]
  },
  {
   "cell_type": "code",
   "execution_count": 42,
   "metadata": {
    "collapsed": false
   },
   "outputs": [],
   "source": [
    "showCatalog(seCat, coaddI, symbol=\"+\", color=\"orange\", frame=0)\n",
    "showCatalog(seCat, coaddI, symbol=\"+\", color=\"orange\", frame=1)\n",
    "showCatalog(seCat, coaddI, symbol=\"+\", color=\"orange\", frame=2)"
   ]
  },
  {
   "cell_type": "code",
   "execution_count": null,
   "metadata": {
    "collapsed": true
   },
   "outputs": [],
   "source": []
  }
 ],
 "metadata": {
  "kernelspec": {
   "display_name": "Python 2",
   "language": "python",
   "name": "python2"
  },
  "language_info": {
   "codemirror_mode": {
    "name": "ipython",
    "version": 2
   },
   "file_extension": ".py",
   "mimetype": "text/x-python",
   "name": "python",
   "nbconvert_exporter": "python",
   "pygments_lexer": "ipython2",
   "version": "2.7.6"
  }
 },
 "nbformat": 4,
 "nbformat_minor": 0
}
